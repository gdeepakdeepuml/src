{
 "cells": [
  {
   "cell_type": "markdown",
   "metadata": {},
   "source": [
    "# Operations on Distributions\n",
    "\n",
    "This notebook is for Chapter 6 of [Think Stats - Probability and Statistics for Programmers](http://greenteapress.com/thinkstats/) by Allen B Downey.\n",
    "\n",
    "Objective: Combining random variables from different distributions and forming new random variables."
   ]
  },
  {
   "cell_type": "code",
   "execution_count": 1,
   "metadata": {
    "collapsed": true
   },
   "outputs": [],
   "source": [
    "from __future__ import division, print_function\n",
    "import numpy as np\n",
    "import math\n",
    "import matplotlib.pyplot as plt\n",
    "import pandas as pd\n",
    "import scipy.stats\n",
    "%matplotlib inline"
   ]
  },
  {
   "cell_type": "markdown",
   "metadata": {},
   "source": [
    "## Skewness\n",
    "\n",
    "Measures assymetry of a distribution. By definition:\n",
    "\n",
    "$$g_{1} = \\frac{m_{3}}{m_{2}^{3/2}}$$\n",
    "\n",
    "$$m_{2} = \\frac{1}{n} \\sum (x_{i} - \\mu)^{2}$$\n",
    "\n",
    "$$m_{3} = \\frac{1}{n} \\sum (x_{i} - \\mu)^{3}$$\n",
    "\n",
    "Negative skewness = distribution skews left, extends further to left than right and vice versa for positive skewness.\n",
    "\n",
    "__Pearson's median skewness__ is another measure of skewness that captures the relationship between the mean $\\mu$ and median $\\mu_{1/2}$. Robust statistic, ie, less vulnerable to the impact of outliers.\n",
    "\n",
    "$$g_{p} = \\frac{3 (\\mu - \\mu_{1/2})}{\\sigma}$$\n",
    "\n",
    "__Exercise 6.1:__ Write function called skewness that computes $g_{1}$ for a sample. Compute skewness for pregnancy length and birth weight. Are the results consistent with the shape of the distributions? Also write a function called pearson\\_skewness that computes $g_{p}$ for these distributions. How does $g_{p}$ compare with $g_{1}$?\n",
    "\n",
    "_Both $g_{1}$ and $g_{p}$ are negative for both pregnancy length and birth weights, which is also borne out by the shape of the distributions. However, $g_{p}$ values are less extreme than $g_{1}$._"
   ]
  },
  {
   "cell_type": "code",
   "execution_count": 2,
   "metadata": {
    "collapsed": true
   },
   "outputs": [],
   "source": [
    "def skewness(xs):\n",
    "    mean = np.mean(xs)\n",
    "    m2 = np.mean(np.power((xs - mean), 2))\n",
    "    m3 = np.mean(np.power((xs - mean), 3))\n",
    "    g1 = m3 / math.pow(m2, 1.5)\n",
    "    return g1\n",
    "\n",
    "def pearson_skewness(xs):\n",
    "    mean = np.mean(xs)\n",
    "    median = np.median(xs)\n",
    "    std = np.std(xs)\n",
    "    return 3 * (mean - median) / std"
   ]
  },
  {
   "cell_type": "code",
   "execution_count": 3,
   "metadata": {
    "collapsed": false
   },
   "outputs": [
    {
     "data": {
      "text/html": [
       "<div>\n",
       "<table border=\"1\" class=\"dataframe\">\n",
       "  <thead>\n",
       "    <tr style=\"text-align: right;\">\n",
       "      <th></th>\n",
       "      <th>caseid</th>\n",
       "      <th>nbrnaliv</th>\n",
       "      <th>babysex</th>\n",
       "      <th>birthwgt_lb</th>\n",
       "      <th>birthwgt_oz</th>\n",
       "      <th>prglength</th>\n",
       "      <th>outcome</th>\n",
       "      <th>birthord</th>\n",
       "      <th>agepreg</th>\n",
       "      <th>finalwgt</th>\n",
       "    </tr>\n",
       "  </thead>\n",
       "  <tbody>\n",
       "    <tr>\n",
       "      <th>0</th>\n",
       "      <td>1</td>\n",
       "      <td>1</td>\n",
       "      <td>1</td>\n",
       "      <td>8</td>\n",
       "      <td>13</td>\n",
       "      <td>39</td>\n",
       "      <td>1</td>\n",
       "      <td>1</td>\n",
       "      <td>33</td>\n",
       "      <td>6448.271112</td>\n",
       "    </tr>\n",
       "    <tr>\n",
       "      <th>1</th>\n",
       "      <td>1</td>\n",
       "      <td>1</td>\n",
       "      <td>2</td>\n",
       "      <td>7</td>\n",
       "      <td>14</td>\n",
       "      <td>39</td>\n",
       "      <td>1</td>\n",
       "      <td>2</td>\n",
       "      <td>39</td>\n",
       "      <td>6448.271112</td>\n",
       "    </tr>\n",
       "    <tr>\n",
       "      <th>2</th>\n",
       "      <td>2</td>\n",
       "      <td>3</td>\n",
       "      <td>1</td>\n",
       "      <td>9</td>\n",
       "      <td>2</td>\n",
       "      <td>39</td>\n",
       "      <td>1</td>\n",
       "      <td>1</td>\n",
       "      <td>14</td>\n",
       "      <td>12999.542264</td>\n",
       "    </tr>\n",
       "    <tr>\n",
       "      <th>3</th>\n",
       "      <td>2</td>\n",
       "      <td>1</td>\n",
       "      <td>2</td>\n",
       "      <td>7</td>\n",
       "      <td>0</td>\n",
       "      <td>39</td>\n",
       "      <td>1</td>\n",
       "      <td>2</td>\n",
       "      <td>17</td>\n",
       "      <td>12999.542264</td>\n",
       "    </tr>\n",
       "    <tr>\n",
       "      <th>4</th>\n",
       "      <td>2</td>\n",
       "      <td>1</td>\n",
       "      <td>2</td>\n",
       "      <td>6</td>\n",
       "      <td>3</td>\n",
       "      <td>39</td>\n",
       "      <td>1</td>\n",
       "      <td>3</td>\n",
       "      <td>18</td>\n",
       "      <td>12999.542264</td>\n",
       "    </tr>\n",
       "  </tbody>\n",
       "</table>\n",
       "</div>"
      ],
      "text/plain": [
       "   caseid  nbrnaliv  babysex  birthwgt_lb  birthwgt_oz  prglength  outcome  \\\n",
       "0       1         1        1            8           13         39        1   \n",
       "1       1         1        2            7           14         39        1   \n",
       "2       2         3        1            9            2         39        1   \n",
       "3       2         1        2            7            0         39        1   \n",
       "4       2         1        2            6            3         39        1   \n",
       "\n",
       "   birthord  agepreg      finalwgt  \n",
       "0         1       33   6448.271112  \n",
       "1         2       39   6448.271112  \n",
       "2         1       14  12999.542264  \n",
       "3         2       17  12999.542264  \n",
       "4         3       18  12999.542264  "
      ]
     },
     "execution_count": 3,
     "metadata": {},
     "output_type": "execute_result"
    }
   ],
   "source": [
    "pregnancies = pd.read_fwf(\"../data/2002FemPreg.dat\", \n",
    "                         names=[\"caseid\", \"nbrnaliv\", \"babysex\", \"birthwgt_lb\",\n",
    "                               \"birthwgt_oz\", \"prglength\", \"outcome\", \"birthord\",\n",
    "                               \"agepreg\", \"finalwgt\"],\n",
    "                         colspecs=[(0, 12), (21, 22), (55, 56), (57, 58), (58, 60),\n",
    "                                (274, 276), (276, 277), (278, 279), (283, 285), (422, 439)])\n",
    "pregnancies.head()"
   ]
  },
  {
   "cell_type": "code",
   "execution_count": 4,
   "metadata": {
    "collapsed": false
   },
   "outputs": [
    {
     "name": "stdout",
     "output_type": "stream",
     "text": [
      "Pregnancy lengths: skewness = -2.855, pearson skewness = -0.488\n",
      "Birth Weights: skewness = -1.318, pearson skewness = -0.382\n"
     ]
    },
    {
     "name": "stderr",
     "output_type": "stream",
     "text": [
      "/Users/palsujit/anaconda/lib/python2.7/site-packages/ipykernel/__main__.py:3: SettingWithCopyWarning: \n",
      "A value is trying to be set on a copy of a slice from a DataFrame.\n",
      "Try using .loc[row_indexer,col_indexer] = value instead\n",
      "\n",
      "See the caveats in the documentation: http://pandas.pydata.org/pandas-docs/stable/indexing.html#indexing-view-versus-copy\n",
      "  app.launch_new_instance()\n"
     ]
    }
   ],
   "source": [
    "live_births = pregnancies[pregnancies[\"outcome\"] == 1]\n",
    "preg_lengths = np.array(live_births[\"prglength\"].dropna())\n",
    "live_births[\"tot_birthwgt\"] = 16 * live_births[\"birthwgt_lb\"] + live_births[\"birthwgt_oz\"]\n",
    "birth_weights = np.array(live_births[\"tot_birthwgt\"].dropna())\n",
    "\n",
    "print(\"Pregnancy lengths: skewness = %.3f, pearson skewness = %.3f\" % \n",
    "      (skewness(preg_lengths), pearson_skewness(preg_lengths)))\n",
    "print(\"Birth Weights: skewness = %.3f, pearson skewness = %.3f\" % \n",
    "      (skewness(birth_weights), pearson_skewness(birth_weights)))"
   ]
  },
  {
   "cell_type": "code",
   "execution_count": 5,
   "metadata": {
    "collapsed": false
   },
   "outputs": [
    {
     "data": {
      "image/png": "[encoded data removed]",
      "text/plain": [
       "<matplotlib.figure.Figure at 0x11179a0d0>"
      ]
     },
     "metadata": {},
     "output_type": "display_data"
    },
    {
     "data": {
      "image/png": "[encoded data removed]",
      "text/plain": [
       "<matplotlib.figure.Figure at 0x11226ab90>"
      ]
     },
     "metadata": {},
     "output_type": "display_data"
    }
   ],
   "source": [
    "range_lb = np.min(preg_lengths)\n",
    "range_ub = np.max(preg_lengths)\n",
    "nbr_bins = range_ub - range_lb\n",
    "pmf_preg_lengths = np.histogram(preg_lengths, bins=nbr_bins, range=(range_lb, range_ub), \n",
    "                                normed=True)\n",
    "plt.bar(pmf_preg_lengths[1][:-1], pmf_preg_lengths[0])\n",
    "plt.title(\"Distribution of pregnancy length\")\n",
    "plt.xlabel(\"weeks\")\n",
    "plt.ylabel(\"probability\")\n",
    "plt.show()\n",
    "\n",
    "range_lb = np.min(birth_weights)\n",
    "range_ub = np.max(birth_weights)\n",
    "nbr_bins = range_ub - range_lb\n",
    "pmf_birth_weights = np.histogram(birth_weights, bins=nbr_bins, range=(range_lb, range_ub), \n",
    "                                 normed=True)\n",
    "plt.bar(pmf_birth_weights[1][:-1], pmf_birth_weights[0])\n",
    "plt.title(\"Distribution of birth weights\")\n",
    "plt.xlabel(\"oz\")\n",
    "plt.ylabel(\"probability\")\n",
    "plt.show()"
   ]
  },
  {
   "cell_type": "markdown",
   "metadata": {},
   "source": [
    "__Exercise 6.3:__ From the IRS dataset, what fraction of the population reports a taxable income below the mean? Compute the median, mean, skewness and Pearson’s skewness of the income\n",
    "data. Because the data has been binned, you will have to make some approximations.\n",
    "\n",
    "Compute the [Gini Coefficient](https://en.wikipedia.org/wiki/Gini_coefficient) for this distribution. Hint: use PMF to compute relative mean difference. The approach used is to consider the Gini coefficient as half of the [relative mean absolute difference](https://en.wikipedia.org/wiki/Mean_absolute_difference#Relative_mean_absolute_difference), ie."
   ]
  },
  {
   "cell_type": "code",
   "execution_count": 6,
   "metadata": {
    "collapsed": false
   },
   "outputs": [
    {
     "name": "stdout",
     "output_type": "stream",
     "text": [
      "Fraction of population reporting below mean income: 0.655\n",
      "Mean of distribution: 61983.04\n",
      "Median of distribution: 35000.00\n",
      "Skewness of distribution: 42.450\n",
      "Pearson Skewness of distribution: 0.381\n"
     ]
    }
   ],
   "source": [
    "income_dist = [(0, 2489989), (2500, 11638707), (7500, 12139638), \n",
    "               (12500, 11702056), (17500, 11076002), (22500, 9866247), \n",
    "               (27500, 8743581), (35000, 14554280), (45000, 11087123), \n",
    "               (62500, 19196461), (87500, 11729485), (150000, 13851341),\n",
    "               (350000, 3476747), (750000, 577618), (1250000, 140635), \n",
    "               (1750000, 59460), (3500000, 86329), (7500000, 21390), \n",
    "               (15000000, 13480)]\n",
    "pop = []\n",
    "for income, nbr_reporters in income_dist:\n",
    "    for i in range(nbr_reporters):\n",
    "        pop.append(income)\n",
    "population = np.array(pop)\n",
    "mean = np.mean(population)\n",
    "nbr_pop = population.shape[0]\n",
    "nbr_below_mean = np.where(population < mean)[0].shape[0]\n",
    "median = np.median(population)\n",
    "skewness = skewness(pop)\n",
    "pearson_skewness = pearson_skewness(pop)\n",
    "print(\"Fraction of population reporting below mean income: %.3f\" % (nbr_below_mean / nbr_pop))\n",
    "print(\"Mean of distribution: %.2f\" % (mean))\n",
    "print(\"Median of distribution: %.2f\" % (median))\n",
    "print(\"Skewness of distribution: %.3f\" % (skewness))\n",
    "print(\"Pearson Skewness of distribution: %.3f\" % (pearson_skewness))"
   ]
  },
  {
   "cell_type": "code",
   "execution_count": 7,
   "metadata": {
    "collapsed": false
   },
   "outputs": [
    {
     "name": "stdout",
     "output_type": "stream",
     "text": [
      "GINI coefficient: 0.603\n"
     ]
    }
   ],
   "source": [
    "# adapted from gini.py\n",
    "diffs = {}\n",
    "for x1, f1 in income_dist:\n",
    "    for x2, f2 in income_dist:\n",
    "        dx = math.fabs(x1 - x2)\n",
    "        df = f1 * f2\n",
    "        if diffs.has_key(dx):\n",
    "            diffs[dx] += df\n",
    "        else:\n",
    "            diffs[dx] = df\n",
    "sum_diffs = 0\n",
    "len_diffs = 0\n",
    "for x in diffs.keys():\n",
    "    sum_diffs += x * diffs[x]\n",
    "    len_diffs += diffs[x]\n",
    "mean_diff = sum_diffs / len_diffs\n",
    "rel_mean_diff = mean_diff / mean\n",
    "gini = rel_mean_diff / 2\n",
    "print(\"GINI coefficient: %.3f\" % (gini))"
   ]
  },
  {
   "cell_type": "markdown",
   "metadata": {},
   "source": [
    "# Random Variables\n",
    "\n",
    "Represents a process that generated it. It is a random value selected from a distribution.\n",
    "\n",
    "__Exercise 6.4:__ Write a definition for a class that represents a random variable with a [Gumbel Distribution](http://wikipedia.org/wiki/Gumbel_distribution).\n",
    "\n",
    "\n",
    "$$Q(U) = \\mu - \\beta ln (-ln(U))$$"
   ]
  },
  {
   "cell_type": "code",
   "execution_count": 8,
   "metadata": {
    "collapsed": false
   },
   "outputs": [
    {
     "name": "stdout",
     "output_type": "stream",
     "text": [
      "exponential(0.1) = 0.179\n",
      "gumbel(1.0, 0.5) = 0.843\n"
     ]
    }
   ],
   "source": [
    "class RandomVariable(object):\n",
    "    \"\"\" Parent class of all random variables \"\"\"\n",
    "    \n",
    "class Exponential(RandomVariable):\n",
    "    def __init__(self, lam):\n",
    "        self.lam = lam\n",
    "    def generate(self):\n",
    "        return np.random.exponential(self.lam)\n",
    "\n",
    "class Gumbel(RandomVariable):\n",
    "    def __init__(self, mu, beta):\n",
    "        self.mu = mu\n",
    "        self.beta = beta\n",
    "    def generate(self):\n",
    "        return self.mu - (self.beta * math.log(-math.log(np.random.random(), math.e), math.e))\n",
    "\n",
    "e = Exponential(0.1)\n",
    "print(\"exponential(0.1) = %.3f\" % (e.generate()))\n",
    "g = Gumbel(1.0, 0.5)\n",
    "print(\"gumbel(1.0, 0.5) = %.3f\" % (g.generate()))"
   ]
  },
  {
   "cell_type": "markdown",
   "metadata": {},
   "source": [
    "## PDFs\n",
    "\n",
    "The derivative of a CDF is called a PDF (probability density function). \n",
    "\n",
    "$$PDF_{expo}(x) = \\lambda e^{-\\lambda x}$$\n",
    "\n",
    "$$PDF_{normal}(x) = \\frac{1}{\\sigma \\sqrt{2 \\pi}} exp \\left [ -\\frac{1}{2} \\left ( \\frac{x - \\mu}{\\sigma} \\right )^{2} \\right ]$$\n",
    "\n",
    "Evaluating a PDF at some x results in a __probability density__. To get the __probability mass__, we have to integrate over x. For example, the probability that X falls within (-0.5, 0.5) is:\n",
    "\n",
    "$$P(-0.5 \\leq X < 0.5) = \\int_{-0.5}^{0.5} PDF_{X}(x) dx$$\n",
    "\n",
    "or equivalently:\n",
    "\n",
    "$$P(-0.5 \\leq X < 0.5) = CDF_{X}(0.5) - CDF_{X}(-0.5)$$\n",
    "\n",
    "__Exercise 6.5:__ What is the probability that a value chosen from an exponential distribution with parameter $\\lambda$ falls between 1 and 20. Express answer in terms of $\\lambda$.\n",
    "\n",
    "$$P(1 \\leq X < 20) = \\int_{1}^{20} \\lambda e^{-\\lambda x} dx = e^{-\\lambda}(1 - e^{-19 \\lambda})$$\n",
    "\n",
    "__Exercise 6.6:__ Distribution of heights is roughly normal with $\\mu$ = 178cm and $\\sigma^{2}$ = 59.4 cm. In order to join the Blue Man group, you have to be between 177.8 and 185.4cm. What percentage of the male population is in this range?\n",
    "\n"
   ]
  },
  {
   "cell_type": "code",
   "execution_count": 9,
   "metadata": {
    "collapsed": false
   },
   "outputs": [
    {
     "name": "stdout",
     "output_type": "stream",
     "text": [
      "percentage of male population in range: 34.186\n"
     ]
    }
   ],
   "source": [
    "norm = scipy.stats.norm(loc=178, scale=math.sqrt(59.4))\n",
    "prob = norm.cdf(185.4) - norm.cdf(177.8)\n",
    "print(\"percentage of male population in range: %.3f\" % (prob * 100))"
   ]
  },
  {
   "cell_type": "markdown",
   "metadata": {},
   "source": [
    "## Convolutions\n",
    "\n",
    "Answers question - if we have two random variables X and Y, with distributions CDF(x) and CDF(y), what is the distribution for the sum Z = X + Y?\n",
    "\n",
    "$$PDF_{Z}(z) = \\int_{-\\infty}^{\\infty} PDF_{Y}(z-x)PDF_{X}(x)dx$$\n",
    "\n",
    "$$PDF_{Z} = PDF_{Y} \\star PDF_{X}$$\n",
    "\n",
    "As an example, assuming X and Y are exponential distributions with parameter $\\lambda$. Then the distribution of Z = X + Y is:\n",
    "\n",
    "$$PDF_{Z}(z) = \\int_{-\\infty }^{\\infty } PDF_{X}(x)PDF_{Y}(z-x) dx = \\int_{-\\infty }^{\\infty } \\lambda e^{-\\lambda x} \\lambda e^{\\lambda (z-x)} dx$$\n",
    "\n",
    "Since exponential is 0 for all negative values, we can adjust our limits:\n",
    "\n",
    "$$PDF_{Z}(z) = \\int_{0}^{z} \\lambda e^{-\\lambda x} \\lambda e^{-\\lambda(z - x)} dx = \\lambda^{2} e^{-\\lambda z} \\int_{0}^{z} dx = \\lambda^{2} z e^{-\\lambda z}$$\n",
    "\n",
    "__Exercise 6.7:__ If X has an exponential distribution with parameter $\\lambda$ and Y has an Erlang distribution with parameters $\\lambda$ and k, what is the distribution of the sum Z = X + Y?\n",
    "\n",
    "$$PDF_{expo} = \\lambda e^{-\\lambda x}$$\n",
    "\n",
    "$$PDF_{erlang} = \\frac{\\lambda^{k} x^{k-1} e^{-\\lambda x}}{(k-1)!}$$\n",
    "\n",
    "$$PDF_{Z}(z) = \\int_{-\\infty}^{\\infty} PDF_{Y}(z-x) PDF_{X}(x) dx = \\frac{\\lambda^{k+1}}{(k-1)!} \\int_{-\\infty}^{\\infty} (z-x)^{k-1} e^{-\\lambda z} dx$$\n",
    "\n",
    "__Exercise 6.9:__ If you are given PMF objects, you can compute the distribution of the sum (or max) by enumerating all pairs of values. Write a function that computes the PMF of Z = max(X, Y)."
   ]
  },
  {
   "cell_type": "code",
   "execution_count": 10,
   "metadata": {
    "collapsed": false
   },
   "outputs": [
    {
     "data": {
      "text/plain": [
       "<matplotlib.legend.Legend at 0x1b12f7550>"
      ]
     },
     "execution_count": 10,
     "metadata": {},
     "output_type": "execute_result"
    },
    {
     "data": {
      "image/png": "[encoded data removed]",
      "text/plain": [
       "<matplotlib.figure.Figure at 0x11145ac50>"
      ]
     },
     "metadata": {},
     "output_type": "display_data"
    }
   ],
   "source": [
    "xs = np.random.normal(2, 0.5, 10000)\n",
    "ys = np.random.normal(1.75, 0.25, 10000)\n",
    "zs = []\n",
    "for x in xs:\n",
    "    for y in ys:\n",
    "        zs.append(max(x, y))\n",
    "        \n",
    "pmf_xs = np.histogram(xs, bins=100, normed=True)\n",
    "pmf_ys = np.histogram(ys, bins=100, normed=True)\n",
    "pmf_zs = np.histogram(zs, bins=100, normed=True)\n",
    "\n",
    "plt.plot(pmf_xs[1][:-1], pmf_xs[0], color=\"red\", label=\"X\")\n",
    "plt.plot(pmf_ys[1][:-1], pmf_ys[0], color=\"blue\", label=\"Y\")\n",
    "plt.plot(pmf_zs[1][:-1], pmf_zs[0], color=\"green\", label=\"max(X, Y)\")\n",
    "plt.xlabel(\"x\")\n",
    "plt.ylabel(\"probability\")\n",
    "plt.legend(loc=\"best\")"
   ]
  },
  {
   "cell_type": "markdown",
   "metadata": {},
   "source": [
    "## Why normal?\n",
    "\n",
    "Normal distributions are closed under linear transformation and convolution. Assume a distribution $X \\sim \\mathcal{N} (\\mu, \\sigma^{2})$, the distribution over a linear transformation $X{}' = aX + b$ is given by:\n",
    "\n",
    "$$X{}' \\sim \\mathcal{N} (a \\mu + b, a^{2}\\sigma^{2})$$\n",
    "\n",
    "The distribution over a convolution Z = X + Y, where $X \\sim \\mathcal{N}(\\mu_{X}, \\sigma_{X^{2}})$ and $Y \\sim \\mathcal{N}(\\mu_{Y}, \\sigma_{Y^{2}})$ is given by:\n",
    "\n",
    "$$Z \\sim \\mathcal{N}(\\mu_{X} + \\mu_{Y}, \\sigma_{X}^{2} + \\sigma_{X}^2)$$\n",
    "\n",
    "__Exercise 6.10:__ If $X \\sim \\mathcal{N}(\\mu_{X}, \\sigma_{X^{2}})$ and $Y \\sim \\mathcal{N}(\\mu_{Y}, \\sigma_{Y^{2}})$, what is the distribution of Z = aX + bY?\n",
    "\n",
    "$$aX \\sim \\mathcal{N} (a\\mu_{X}, a^{2}\\sigma_{X}^{2})$$\n",
    "\n",
    "$$bY \\sim \\mathcal{N} (b\\mu_{Y}, b^{2}\\sigma_{Y}^{2})$$\n",
    "\n",
    "$$Z \\sim \\mathcal{N} (a\\mu_{X}+b\\mu_{Y}, a^{2}\\sigma_{X}^{2}+b^{2}\\sigma_{Y}^{2})$$\n",
    "\n",
    "__Exercise 6.11:__ Choose a pair of distributions (any two of exponential, normal, lognormal, and Pareto) and choose parameters that make their mean and variance similar. Generate random numbers from these distributions and compute the distribution of their sums. Use the tests from Chapter 4 to see if the sum can be modeled by a continuous distribution."
   ]
  },
  {
   "cell_type": "code",
   "execution_count": 14,
   "metadata": {
    "collapsed": false
   },
   "outputs": [
    {
     "data": {
      "text/plain": [
       "<matplotlib.legend.Legend at 0x115d1ca10>"
      ]
     },
     "execution_count": 14,
     "metadata": {},
     "output_type": "execute_result"
    },
    {
     "data": {
      "image/png": "[encoded data removed]",
      "text/plain": [
       "<matplotlib.figure.Figure at 0x1127b0f50>"
      ]
     },
     "metadata": {},
     "output_type": "display_data"
    }
   ],
   "source": [
    "# X ~ Pareto distribution x_min = 1, alpha = 5\n",
    "# from wikipedia page, mean = 1.25 and variance = 0.1\n",
    "# Y ~ Normal mean = 1.25, variance = 0.1\n",
    "xs = 1 + np.random.pareto(5, 1000)\n",
    "ys = np.random.normal(1.25, 0.1, 1000)\n",
    "zs = xs + ys\n",
    "\n",
    "pmf_xs = np.histogram(xs, bins=50, normed=True)\n",
    "pmf_ys = np.histogram(ys, bins=50, normed=True)\n",
    "pmf_zs = np.histogram(zs, bins=50, normed=True)\n",
    "\n",
    "plt.plot(pmf_xs[1][:-1], pmf_xs[0], color=\"red\", label=\"X\")\n",
    "plt.plot(pmf_ys[1][:-1], pmf_ys[0], color=\"blue\", label=\"Y\")\n",
    "plt.plot(pmf_zs[1][:-1], pmf_zs[0], color=\"green\", label=\"Z = X + Y\")\n",
    "plt.xlabel(\"x\")\n",
    "plt.ylabel(\"probability\")\n",
    "plt.legend(loc=\"best\")"
   ]
  },
  {
   "cell_type": "code",
   "execution_count": 15,
   "metadata": {
    "collapsed": false
   },
   "outputs": [
    {
     "data": {
      "text/plain": [
       "<matplotlib.text.Text at 0x11595ddd0>"
      ]
     },
     "execution_count": 15,
     "metadata": {},
     "output_type": "execute_result"
    },
    {
     "data": {
      "image/png": "[encoded data removed]",
      "text/plain": [
       "<matplotlib.figure.Figure at 0x1127b0bd0>"
      ]
     },
     "metadata": {},
     "output_type": "display_data"
    }
   ],
   "source": [
    "plt.semilogx(pmf_zs[1][:-1], pmf_zs[0])\n",
    "plt.xlabel(\"log(Z)\")\n",
    "plt.ylabel(\"probability\")\n",
    "plt.title(\"Z is lognormal distribution\")"
   ]
  },
  {
   "cell_type": "markdown",
   "metadata": {},
   "source": [
    "## Central Limit Theorem\n",
    "\n",
    "If we add up the values from almost any distribution, the distribution of the sums converge to normal. Further if the distribution has mean $\\mu$ and standard deviation $\\sigma$, then the distribution of the sum is approximately $\\mathcal{N}(n\\mu, n\\sigma^{2})$.\n",
    "\n",
    "Caveats:\n",
    "* values have to be drawn independently\n",
    "* values have to come from the same distribution\n",
    "* values have to be drawn from a distribution with finite mean and variance (so no Pareto).\n",
    "* number of values needed depends on skewness.\n",
    "\n",
    "__Exercise 6.13:__ Choose a distribution (one of exponential, lognormal or Pareto) and choose values for the parameter(s). Generate samples with sizes 2, 4, 8, etc., and compute the distribution of their sums. Use a normal probability plot to see if the distribution is approximately normal. How many terms do you have to add to see convergence?"
   ]
  },
  {
   "cell_type": "code",
   "execution_count": 13,
   "metadata": {
    "collapsed": false
   },
   "outputs": [
    {
     "data": {
      "text/plain": [
       "<matplotlib.text.Text at 0x1120b2150>"
      ]
     },
     "execution_count": 13,
     "metadata": {},
     "output_type": "execute_result"
    },
    {
     "data": {
      "image/png": "[encoded data removed]",
      "text/plain": [
       "<matplotlib.figure.Figure at 0x115cc30d0>"
      ]
     },
     "metadata": {},
     "output_type": "display_data"
    }
   ],
   "source": [
    "num_samples = 500\n",
    "sample_sums = np.zeros(num_samples)\n",
    "sample_sizes = np.logspace(1, 16, num=num_samples, endpoint=True, base=2)\n",
    "for i in range(num_samples):\n",
    "    samples = np.random.exponential(5, int(sample_sizes[i]))\n",
    "    sample_sums[i] = np.sum(samples)\n",
    "dataset = np.sort(sample_sums)\n",
    "\n",
    "# normal_samples\n",
    "normal_samples = np.sort(np.random.normal(0, 1, num_samples))\n",
    "plt.scatter(normal_samples, dataset)\n",
    "plt.xlabel(\"Standard normal values\")\n",
    "plt.ylabel(\"Sum of samples\")"
   ]
  },
  {
   "cell_type": "code",
   "execution_count": null,
   "metadata": {
    "collapsed": true
   },
   "outputs": [],
   "source": []
  }
 ],
 "metadata": {
  "kernelspec": {
   "display_name": "Python 2",
   "language": "python",
   "name": "python2"
  },
  "language_info": {
   "codemirror_mode": {
    "name": "ipython",
    "version": 2
   },
   "file_extension": ".py",
   "mimetype": "text/x-python",
   "name": "python",
   "nbconvert_exporter": "python",
   "pygments_lexer": "ipython2",
   "version": "2.7.11"
  }
 },
 "nbformat": 4,
 "nbformat_minor": 0
}
