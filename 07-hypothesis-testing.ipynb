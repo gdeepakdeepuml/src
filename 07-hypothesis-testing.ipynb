{
 "cells": [
  {
   "cell_type": "markdown",
   "metadata": {},
   "source": [
    "# Hypothesis Testing\n",
    "\n",
    "This notebook is for Chapter 7 of [Think Stats - Probability and Statistics for Programmers](http://greenteapress.com/thinkstats/) by Allen B Downey.\n",
    "\n",
    "Objective: learn techniques to decide if apparent effects are __significant__. An apparent effect is __statistically significant__ if it unlikely to have occurred by chance."
   ]
  },
  {
   "cell_type": "code",
   "execution_count": 1,
   "metadata": {
    "collapsed": true
   },
   "outputs": [],
   "source": [
    "from __future__ import division, print_function\n",
    "import math\n",
    "import matplotlib.pyplot as plt\n",
    "import numpy as np\n",
    "import pandas as pd\n",
    "import scipy.stats\n",
    "%matplotlib inline"
   ]
  },
  {
   "cell_type": "markdown",
   "metadata": {},
   "source": [
    "## Testing Difference in Means\n",
    "\n",
    "In the NSFG data, we saw that the mean pregnancy length for first babies is slightly longer, and the mean weight at birth is slightly smaller. Now we will see if those effects are significant.\n",
    "\n",
    "    H0: distribution of the two groups (first and other babies) are same\n",
    "\n",
    "\n",
    "    "
   ]
  },
  {
   "cell_type": "code",
   "execution_count": 2,
   "metadata": {
    "collapsed": false
   },
   "outputs": [
    {
     "data": {
      "text/html": [
       "<div>\n",
       "<table border=\"1\" class=\"dataframe\">\n",
       "  <thead>\n",
       "    <tr style=\"text-align: right;\">\n",
       "      <th></th>\n",
       "      <th>caseid</th>\n",
       "      <th>nbrnaliv</th>\n",
       "      <th>babysex</th>\n",
       "      <th>birthwgt_lb</th>\n",
       "      <th>birthwgt_oz</th>\n",
       "      <th>prglength</th>\n",
       "      <th>outcome</th>\n",
       "      <th>birthord</th>\n",
       "      <th>agepreg</th>\n",
       "      <th>finalwgt</th>\n",
       "    </tr>\n",
       "  </thead>\n",
       "  <tbody>\n",
       "    <tr>\n",
       "      <th>0</th>\n",
       "      <td>1</td>\n",
       "      <td>1</td>\n",
       "      <td>1</td>\n",
       "      <td>8</td>\n",
       "      <td>13</td>\n",
       "      <td>39</td>\n",
       "      <td>1</td>\n",
       "      <td>1</td>\n",
       "      <td>33</td>\n",
       "      <td>6448.271112</td>\n",
       "    </tr>\n",
       "    <tr>\n",
       "      <th>1</th>\n",
       "      <td>1</td>\n",
       "      <td>1</td>\n",
       "      <td>2</td>\n",
       "      <td>7</td>\n",
       "      <td>14</td>\n",
       "      <td>39</td>\n",
       "      <td>1</td>\n",
       "      <td>2</td>\n",
       "      <td>39</td>\n",
       "      <td>6448.271112</td>\n",
       "    </tr>\n",
       "    <tr>\n",
       "      <th>2</th>\n",
       "      <td>2</td>\n",
       "      <td>3</td>\n",
       "      <td>1</td>\n",
       "      <td>9</td>\n",
       "      <td>2</td>\n",
       "      <td>39</td>\n",
       "      <td>1</td>\n",
       "      <td>1</td>\n",
       "      <td>14</td>\n",
       "      <td>12999.542264</td>\n",
       "    </tr>\n",
       "    <tr>\n",
       "      <th>3</th>\n",
       "      <td>2</td>\n",
       "      <td>1</td>\n",
       "      <td>2</td>\n",
       "      <td>7</td>\n",
       "      <td>0</td>\n",
       "      <td>39</td>\n",
       "      <td>1</td>\n",
       "      <td>2</td>\n",
       "      <td>17</td>\n",
       "      <td>12999.542264</td>\n",
       "    </tr>\n",
       "    <tr>\n",
       "      <th>4</th>\n",
       "      <td>2</td>\n",
       "      <td>1</td>\n",
       "      <td>2</td>\n",
       "      <td>6</td>\n",
       "      <td>3</td>\n",
       "      <td>39</td>\n",
       "      <td>1</td>\n",
       "      <td>3</td>\n",
       "      <td>18</td>\n",
       "      <td>12999.542264</td>\n",
       "    </tr>\n",
       "  </tbody>\n",
       "</table>\n",
       "</div>"
      ],
      "text/plain": [
       "   caseid  nbrnaliv  babysex  birthwgt_lb  birthwgt_oz  prglength  outcome  \\\n",
       "0       1         1        1            8           13         39        1   \n",
       "1       1         1        2            7           14         39        1   \n",
       "2       2         3        1            9            2         39        1   \n",
       "3       2         1        2            7            0         39        1   \n",
       "4       2         1        2            6            3         39        1   \n",
       "\n",
       "   birthord  agepreg      finalwgt  \n",
       "0         1       33   6448.271112  \n",
       "1         2       39   6448.271112  \n",
       "2         1       14  12999.542264  \n",
       "3         2       17  12999.542264  \n",
       "4         3       18  12999.542264  "
      ]
     },
     "execution_count": 2,
     "metadata": {},
     "output_type": "execute_result"
    }
   ],
   "source": [
    "pregnancies = pd.read_fwf(\"../data/2002FemPreg.dat\", \n",
    "                         names=[\"caseid\", \"nbrnaliv\", \"babysex\", \"birthwgt_lb\",\n",
    "                               \"birthwgt_oz\", \"prglength\", \"outcome\", \"birthord\",\n",
    "                               \"agepreg\", \"finalwgt\"],\n",
    "                         colspecs=[(0, 12), (21, 22), (55, 56), (57, 58), (58, 60),\n",
    "                                (274, 276), (276, 277), (278, 279), (283, 285), (422, 439)])\n",
    "pregnancies.head()"
   ]
  },
  {
   "cell_type": "code",
   "execution_count": 3,
   "metadata": {
    "collapsed": false
   },
   "outputs": [
    {
     "name": "stdout",
     "output_type": "stream",
     "text": [
      "# first babies: 4413, other babies: 4735\n",
      "Difference in means (data): 0.078 weeks\n"
     ]
    }
   ],
   "source": [
    "# Look at the input data\n",
    "live_births = pregnancies[pregnancies[\"outcome\"] == 1]\n",
    "first_babies = np.array(live_births[live_births[\"birthord\"] == 1][\"prglength\"].dropna())\n",
    "other_babies = np.array(live_births[live_births[\"birthord\"] != 1][\"prglength\"].dropna())\n",
    "print(\"# first babies: %d, other babies: %d\" % (first_babies.shape[0], other_babies.shape[0]))\n",
    "delta = np.mean(first_babies) - np.mean(other_babies)\n",
    "print(\"Difference in means (data): %.3f weeks\" % (delta))"
   ]
  },
  {
   "cell_type": "code",
   "execution_count": 4,
   "metadata": {
    "collapsed": false
   },
   "outputs": [
    {
     "data": {
      "text/plain": [
       "<matplotlib.text.Text at 0x10eaa5910>"
      ]
     },
     "execution_count": 4,
     "metadata": {},
     "output_type": "execute_result"
    },
    {
     "data": {
      "image/png": "[encoded data removed]",
      "text/plain": [
       "<matplotlib.figure.Figure at 0x104d18650>"
      ]
     },
     "metadata": {},
     "output_type": "display_data"
    }
   ],
   "source": [
    "def compute_diff(model1, model2, replace=True):\n",
    "    sample1 = np.random.choice(model1, size=model1.shape[0], replace=replace)\n",
    "    sample2 = np.random.choice(model2, size=model2.shape[0], replace=replace)\n",
    "    return np.mean(sample1) - np.mean(sample2)\n",
    "    \n",
    "# Generate 2 random samples with the mean and std of the pooled distributio\n",
    "pooled_babies = np.array(pregnancies[pregnancies[\"outcome\"] == 1][\"prglength\"].dropna())\n",
    "sample_mean = np.mean(pooled_babies)\n",
    "sample_std = np.std(pooled_babies)\n",
    "np.random.seed(1)\n",
    "sample_first = np.random.normal(sample_mean, sample_std, 4413)\n",
    "sample_other = np.random.normal(sample_mean, sample_std, 4735)\n",
    "\n",
    "# draw samples from sample_first and sample_other and compute diffs.\n",
    "# create a distribution of diffs\n",
    "diffs = np.array([compute_diff(sample_first, sample_other) for x in range(1000)])\n",
    "\n",
    "diffs_pmf = np.histogram(diffs, bins=50, normed=True)\n",
    "diffs_cdf_ps = np.cumsum(diffs_pmf[0])\n",
    "diffs_cdf_ps = diffs_cdf_ps / diffs_cdf_ps[-1]\n",
    "diffs_cdf_xs = diffs_pmf[1][:-1]\n",
    "\n",
    "# CDF plot of distribution difference of means\n",
    "plt.plot(diffs_cdf_xs, diffs_cdf_ps)\n",
    "plt.axvline(x=-delta, color='k')\n",
    "plt.axvline(x=delta, color='k')\n",
    "plt.xlabel(\"difference in mean (weeks)\")\n",
    "plt.ylabel(\"CDF(x)\")\n",
    "plt.title(\"Resampled Differences\")"
   ]
  },
  {
   "cell_type": "code",
   "execution_count": 5,
   "metadata": {
    "collapsed": false
   },
   "outputs": [
    {
     "name": "stdout",
     "output_type": "stream",
     "text": [
      "p-value = 0.172\n"
     ]
    }
   ],
   "source": [
    "# p-value = fraction of diffs sample where value >= delta\n",
    "nbr_diffs_ge_delta = np.where(diffs >= delta)[0].shape[0]\n",
    "print(\"p-value = %.3f\" % (nbr_diffs_ge_delta / diffs.shape[0]))"
   ]
  },
  {
   "cell_type": "markdown",
   "metadata": {},
   "source": [
    "__Exercise 7.1:__ In the NSFG dataset, the difference in mean weight for first births is 2.0 ounces. Compute the p-value of this difference. \n",
    "\n",
    "Hint: for this kind of resampling it is important to sample with replacement, so you should use random.choice rather than random.sample (see Section 3.8)."
   ]
  },
  {
   "cell_type": "code",
   "execution_count": 6,
   "metadata": {
    "collapsed": false
   },
   "outputs": [
    {
     "name": "stderr",
     "output_type": "stream",
     "text": [
      "/Users/palsujit/anaconda/lib/python2.7/site-packages/ipykernel/__main__.py:1: SettingWithCopyWarning: \n",
      "A value is trying to be set on a copy of a slice from a DataFrame.\n",
      "Try using .loc[row_indexer,col_indexer] = value instead\n",
      "\n",
      "See the caveats in the documentation: http://pandas.pydata.org/pandas-docs/stable/indexing.html#indexing-view-versus-copy\n",
      "  if __name__ == '__main__':\n"
     ]
    }
   ],
   "source": [
    "live_births[\"birthwgt\"] = 16 * live_births[\"birthwgt_lb\"] + live_births[\"birthwgt_oz\"]\n",
    "pooled = np.array(live_births[\"birthwgt\"].dropna())\n",
    "first = np.array(live_births[live_births[\"birthord\"] == 1][\"birthwgt\"].dropna())\n",
    "other = np.array(live_births[live_births[\"birthord\"] != 1][\"birthwgt\"].dropna())"
   ]
  },
  {
   "cell_type": "code",
   "execution_count": 7,
   "metadata": {
    "collapsed": false
   },
   "outputs": [
    {
     "data": {
      "text/plain": [
       "<matplotlib.text.Text at 0x10e994d50>"
      ]
     },
     "execution_count": 7,
     "metadata": {},
     "output_type": "execute_result"
    },
    {
     "data": {
      "image/png": "[encoded data removed]",
      "text/plain": [
       "<matplotlib.figure.Figure at 0x10e5d5410>"
      ]
     },
     "metadata": {},
     "output_type": "display_data"
    }
   ],
   "source": [
    "# compute mean and std of pooled data and generate samples of size(first) and size(other)\n",
    "pooled_mean = np.mean(pooled)\n",
    "pooled_std = np.std(pooled)\n",
    "np.random.seed(1)\n",
    "sample_first = np.random.normal(pooled_mean, pooled_std, first.shape[0])\n",
    "sample_other = np.random.normal(pooled_mean, pooled_std, other.shape[0])\n",
    "\n",
    "# create a distribution of diffs by sampling from the above samples many times\n",
    "diffs = np.array([compute_diff(sample_first, sample_other, True) for x in range(1000)])\n",
    "\n",
    "# plot the distribution\n",
    "pmf_diffs = np.histogram(diffs, bins=100, normed=True)\n",
    "cdf_diffs_ps = np.cumsum(pmf_diffs[0])\n",
    "cdf_diffs_ps = cdf_diffs_ps / cdf_diffs_ps[-1]\n",
    "cdf_diffs_xs = pmf_diffs[1][:-1]\n",
    "\n",
    "plt.plot(cdf_diffs_xs, cdf_diffs_ps)\n",
    "plt.xlim(-2.5, 2.5)\n",
    "plt.axvline(x=-2.0, color='k')\n",
    "plt.axvline(x=2.0, color='k')\n",
    "plt.xlabel(\"difference in mean (oz)\")\n",
    "plt.ylabel(\"CDF(x)\")\n",
    "plt.title(\"Resampled Differences\")"
   ]
  },
  {
   "cell_type": "code",
   "execution_count": 8,
   "metadata": {
    "collapsed": false
   },
   "outputs": [
    {
     "name": "stdout",
     "output_type": "stream",
     "text": [
      "p-value = 0.00100\n"
     ]
    }
   ],
   "source": [
    "diffs_ge_2 = np.where(diffs >= 2)[0]\n",
    "print(\"p-value = %.5f\" % (diffs_ge_2.shape[0] / diffs.shape[0]))"
   ]
  },
  {
   "cell_type": "markdown",
   "metadata": {},
   "source": [
    "## Choosing a threshold\n",
    "\n",
    "Common threshold is $\\alpha$ = 5%. If the p-value is less than $\\alpha$, then difference is statistically significant, else it is not.\n",
    "\n",
    "So the difference in pregnancy lengths is __not statistically significant__ because 17.2% is greater than 5%, and the difference in birth weights is __statistically significant__ because 1% is less than 5%.\n",
    "\n",
    "Decreasing $\\alpha$ decreases the chance of false positive. But it also raises the standard of evidence, which increases the chance of rejecting a valid hypothesis.\n",
    "\n",
    "__Exercise 7.2:__ To investigate the effect of sample size on p-value, see what happens if you discard half of the data from the NSFG. Hint: use random.sample. What if you discard three-quarters of the data, and so on? What is the smallest sample size where the difference in mean birth weight is still significant with $\\alpha$ = 5%? How much larger does the sample size have to be with $\\alpha$ = 1%?"
   ]
  },
  {
   "cell_type": "code",
   "execution_count": 9,
   "metadata": {
    "collapsed": false
   },
   "outputs": [
    {
     "name": "stdout",
     "output_type": "stream",
     "text": [
      "(sample size, p-value): [(9087, 0.0), (4543, 0.0), (2271, 0.0), (2998, 0.004), (908, 0.0), (454, 0.0), (90, 0.005), (45, 0.092)]\n"
     ]
    }
   ],
   "source": [
    "data_keep_fracs = [1.0, 0.5, 0.25, 0.33, 0.1, 0.05, 0.01, 0.005]\n",
    "spvs = []\n",
    "for data_keep_frac in data_keep_fracs:\n",
    "    pool_sample = np.random.choice(pooled, int(pooled.shape[0] * data_keep_frac))\n",
    "    pool_mean = np.mean(pool_sample)\n",
    "    pool_std = np.std(pool_sample)\n",
    "    first_sample = np.random.normal(pool_mean, pool_std, first.shape[0])\n",
    "    other_sample = np.random.normal(pool_mean, pool_std, other.shape[0])\n",
    "    diffs = np.array([compute_diff(first_sample, other_sample) for x in range(1000)])\n",
    "    p_value = np.where(diffs >= 2.0)[0].shape[0] / diffs.shape[0]\n",
    "    spvs.append((pool_sample.shape[0], p_value))\n",
    "print(\"(sample size, p-value):\", spvs)"
   ]
  },
  {
   "cell_type": "markdown",
   "metadata": {},
   "source": [
    "## Defining the Effect\n",
    "\n",
    "__Two sided test__ - check both sides when computing the p-value.\n",
    "\n",
    "__One sided test__ - check only one side.\n",
    "\n",
    "For symmetric distributions the two sided p-value should be roughly twice the one-sided value, but in this case, the distribution is skewed right."
   ]
  },
  {
   "cell_type": "code",
   "execution_count": 10,
   "metadata": {
    "collapsed": false
   },
   "outputs": [
    {
     "name": "stdout",
     "output_type": "stream",
     "text": [
      "p-value (1 sided): 0.092, (2 sided): 0.092\n"
     ]
    }
   ],
   "source": [
    "p_value_2_sided = np.where((diffs >= 2.0) | (diffs <= -2.0))[0]\n",
    "p_value_2_sided = p_value_2_sided.shape[0] / diffs.shape[0]\n",
    "p_value_1_sided = np.where(diffs >= 2.0)[0]\n",
    "p_value_1_sided = p_value_1_sided.shape[0] / diffs.shape[0]\n",
    "print(\"p-value (1 sided): %.3f, (2 sided): %.3f\" % (p_value_1_sided, p_value_2_sided))"
   ]
  },
  {
   "cell_type": "markdown",
   "metadata": {},
   "source": [
    "## Interpreting the result\n",
    "\n",
    "We define event E, and compute the p-value, which is P(E|H0) and compare to the threshold $\\alpha$.\n",
    "\n",
    "__Classical:__ if p-value less than $\\alpha$, we can conclude effect is __statistically significant__, but can't conclude that its real.\n",
    "\n",
    "__Practical:__ in practice, people conclude its real. Lower the p-value, the higher the confidence in the conclusion.\n",
    "\n",
    "__Bayesian:__ what we want to know is:\n",
    "\n",
    "$$P(H_{A} | E) = \\frac {P(E | H_{A}) P(H_{A})} {P(E)}$$\n",
    "\n",
    "where $H_{A}$ is the alternate hypothesis that the effect is real. Here $P(H_{A})$ is the prior probability of $H_{A}$ before we see the effect, $P(E|H_{A})$ is the probability of seeing the effect assuming it is real, and P(E) is the probability of seeing E under any circumstances. Since the effect is either real or not real, P(E) is given by:\n",
    "\n",
    "$$P(E) = P(E|H_{A})P(H_{A}) + P(E|H_{0})P(H_{0})$$\n",
    "\n",
    "__Exercise 7.3:__ Using the NSFG data, what is the posterior probability that the distribution of birth weights is different for first babies than others?"
   ]
  },
  {
   "cell_type": "code",
   "execution_count": 11,
   "metadata": {
    "collapsed": false
   },
   "outputs": [
    {
     "name": "stdout",
     "output_type": "stream",
     "text": [
      "posterior probability that birth weights are different: 0.875\n"
     ]
    }
   ],
   "source": [
    "# assume H(A) = first and other distributions are different and the difference is 2.0\n",
    "# compute P(E|HA)\n",
    "np.random.seed(1)\n",
    "first_sample = np.random.normal(pool_mean, pool_std, first.shape[0])\n",
    "other_sample = np.random.normal(pool_mean, pool_std, other.shape[0])\n",
    "diffs = np.array([compute_diff(first_sample, other_sample) for x in range(1000)])\n",
    "diffs_ge_2 = np.where(diffs >= 2.0)\n",
    "p_e_ha = diffs_ge_2[0].shape[0] / diffs.shape[0]\n",
    "# prior P(HA) = P(H0) = 0.5 since we assume no knowledge\n",
    "p_ha = 0.5\n",
    "p_h0 = 0.5\n",
    "# we already know H(E|H0) = 0.001 from before \n",
    "p_e_h0 = 0.001\n",
    "p_ha_e = p_e_ha * p_ha / (p_e_ha * p_ha + p_e_h0 * p_h0)\n",
    "print(\"posterior probability that birth weights are different: %.3f\" % (p_ha_e))"
   ]
  },
  {
   "cell_type": "markdown",
   "metadata": {},
   "source": [
    "## Cross-validation\n",
    "\n",
    "Split the data into training and test OR partition and run over each partition, then average. Second method shown."
   ]
  },
  {
   "cell_type": "code",
   "execution_count": 12,
   "metadata": {
    "collapsed": false
   },
   "outputs": [
    {
     "name": "stdout",
     "output_type": "stream",
     "text": [
      "posterior probability (averaged) = 0.985\n"
     ]
    }
   ],
   "source": [
    "p_ha = 0.5\n",
    "p_h0 = 0.5\n",
    "p_e_h0 = 0.001\n",
    "post_probs = []\n",
    "np.random.seed(1)\n",
    "for i in range(10):\n",
    "    idxs = np.random.choice(pooled, size=8000)\n",
    "    pool_split = pooled[np.array(idxs, dtype=int)]\n",
    "    pool_mean = np.mean(pool_split)\n",
    "    pool_std = np.mean(pool_split)\n",
    "    first_sample = np.random.normal(pool_mean, pool_std, first.shape[0])\n",
    "    other_sample = np.random.normal(pool_mean, pool_std, other.shape[0])\n",
    "    diffs = np.array([compute_diff(first_sample, other_sample) for x in range(1000)])\n",
    "    diffs_ge_2 = np.where(diffs >= 2.0)\n",
    "    p_e_ha = diffs_ge_2[0].shape[0] / diffs.shape[0]\n",
    "    post_probs.append(p_e_ha * p_ha / (p_e_ha * p_ha + p_e_h0 * p_h0))\n",
    "print(\"posterior probability (averaged) = %.3f\" % (sum(post_probs) / len(post_probs)))"
   ]
  },
  {
   "cell_type": "markdown",
   "metadata": {},
   "source": [
    "## Reporting Bayesian Probabilities\n",
    "\n",
    "__Objection to Bayesian probabilities:__ arbitary priors. However, strong evidence will swamp the prior.\n",
    "\n",
    "__Likelihood Ratio:__ also called __Bayes Factor__.\n",
    "\n",
    "$$likelihood \\space ratio = \\frac {P(E|H_{A})}{P(E|H_{0})}$$\n",
    "\n",
    "__Exercise 7.4:__ If your prior probability for a hypothesis, HA, is 0.3 and new evidence becomes available that yields a likelihood ratio of 3 relative to the null hypothesis, H0, what is your posterior probability for HA?\n",
    "\n",
    "You can use Bayes theorem and the formula for LR to find that P(HA|E) = (9/7)P(H0|E). But P(HA|E) + P(H0|E) = 1, so P(HA|E) = 9/16.\n",
    "\n",
    "__Exercise 7.5:__ Two people have left traces of their own blood at the scene of a crime. A suspect, Oliver, is tested and found to have type O blood. The blood groups of the two traces are found to be of type O (a common type in the local population, having frequency 60%) and of type AB (a rare type, with frequency 1%). Do these data (the blood types found at the scene) give evidence in favor of the proposition that Oliver was one of the two people whose blood was found at the scene?\n",
    "\n",
    "Covered in [Allen Downey's blog post](http://allendowney.blogspot.com/2011/10/all-your-bayes-are-belong-to-us.html).\n",
    "\n",
    "    H0 = Oliver is not one of the people\n",
    "    H1 = Oliver is one of the people\n",
    "    E = 2 blood samples found\n",
    "\n",
    "    P(E|H0) = 2 samples * (0.6 * 0.01) = 0.12\n",
    "    P(E|H1) = 0.01 (since Oliver already has O, we just need the other guy with AB)\n",
    "    LR = P(E|H1) / P(E|H0) = 1/12\n",
    "\n",
    "## Chi-square test\n",
    "\n",
    "Instead of testing whether the apparent difference in mean pregnancy length is significant or not, alternative is to test the hypothesis as it appears - ie, first babies are more likely to be early, less likely to be on time and more likely to be late.\n",
    "\n",
    "Formula for chi-squared ratio is:\n",
    "\n",
    "$$\\chi^{2} = \\sum_{i} \\frac {(O_{i} - E_{i})^{2}}{E_{i}}$$\n",
    "\n",
    "H0 = pregnancy length distribution is the same for both groups. The p-value is the probability of seeing a chi-squared value as high as the one observed."
   ]
  },
  {
   "cell_type": "code",
   "execution_count": 13,
   "metadata": {
    "collapsed": false
   },
   "outputs": [
    {
     "name": "stdout",
     "output_type": "stream",
     "text": [
      "observed chi-squared value: 92.12957073\n"
     ]
    },
    {
     "data": {
      "text/plain": [
       "<matplotlib.text.Text at 0x10e8a3fd0>"
      ]
     },
     "execution_count": 13,
     "metadata": {},
     "output_type": "execute_result"
    },
    {
     "data": {
      "image/png": "[encoded data removed]",
      "text/plain": [
       "<matplotlib.figure.Figure at 0x10e980690>"
      ]
     },
     "metadata": {},
     "output_type": "display_data"
    }
   ],
   "source": [
    "# (1) Find observed values and partition into 6 cells\n",
    "#              |early  | on-time | late\n",
    "# -------------+-------+---------+------\n",
    "# first babies |       |         |\n",
    "# others       |       |         |\n",
    "observed = np.zeros(6)\n",
    "observed[0] = len(live_births[(live_births[\"birthord\"] == 1) & \n",
    "                              (live_births[\"prglength\"] <= 37)][\"prglength\"].dropna())\n",
    "observed[1] = len(live_births[(live_births[\"birthord\"] == 1) & \n",
    "                              ((live_births[\"prglength\"] == 38) |\n",
    "                               (live_births[\"prglength\"] == 39) |\n",
    "                               (live_births[\"prglength\"] == 40))][\"prglength\"].dropna())\n",
    "observed[2] = len(live_births[(live_births[\"birthord\"] == 1) & \n",
    "                              (live_births[\"prglength\"] >= 41)][\"prglength\"].dropna())\n",
    "observed[3] = len(live_births[(live_births[\"birthord\"] != 1) & \n",
    "                              (live_births[\"prglength\"] <= 37)][\"prglength\"].dropna())\n",
    "observed[4] = len(live_births[(live_births[\"birthord\"] != 1) & \n",
    "                              ((live_births[\"prglength\"] == 38) |\n",
    "                               (live_births[\"prglength\"] == 39) |\n",
    "                               (live_births[\"prglength\"] == 40))][\"prglength\"].dropna())\n",
    "observed[5] = len(live_births[(live_births[\"birthord\"] != 1) & \n",
    "                              (live_births[\"prglength\"] >= 41)][\"prglength\"].dropna())\n",
    "                              \n",
    "# (2) compute expected values for each cell. H0 says distributions are \n",
    "#     same, so we use pooled probabilities P(early), P(ontime), P(late)\n",
    "#     Actual expected numbers are n*P(...) for first and m*P(...) for other\n",
    "nbr_first_babies = len(live_births[live_births[\"birthord\"] == 1].dropna())\n",
    "nbr_other_babies = len(live_births[live_births[\"birthord\"] != 1].dropna())\n",
    "nbr_pooled = nbr_first_babies + nbr_other_babies\n",
    "nbr_early_pooled = len(live_births[live_births[\"prglength\"] <= 37])\n",
    "nbr_ontime_pooled = len(live_births[(live_births[\"prglength\"] == 38) | \n",
    "                                    (live_births[\"prglength\"] == 39) | \n",
    "                                    (live_births[\"prglength\"] == 40)].dropna())\n",
    "nbr_late_pooled = len(live_births[live_births[\"prglength\"] >= 41].dropna())\n",
    "expected = np.zeros(6)\n",
    "expected[0] = nbr_first_babies * nbr_early_pooled / nbr_pooled\n",
    "expected[1] = nbr_first_babies * nbr_ontime_pooled / nbr_pooled\n",
    "expected[2] = nbr_first_babies * nbr_late_pooled / nbr_pooled\n",
    "expected[3] = nbr_other_babies * nbr_early_pooled / nbr_pooled\n",
    "expected[4] = nbr_other_babies * nbr_ontime_pooled / nbr_pooled\n",
    "expected[5] = nbr_other_babies * nbr_late_pooled / nbr_pooled\n",
    "\n",
    "# (3) compute deviation, ie, difference between observed and expected\n",
    "# (4) compute chi-squared statistic\n",
    "deviation = np.power(observed - expected, 2) / expected\n",
    "chi2 = np.sum(deviation)\n",
    "print(\"observed chi-squared value:\", chi2)\n",
    "\n",
    "# (5) use Monte Carlo simulation to compute p-value, ie the probability of\n",
    "#     seeing a chi-squared value as high as that observed under H0.\n",
    "pool_data = np.array(live_births[\"prglength\"].dropna())\n",
    "pool_mean = np.mean(pool_data)\n",
    "pool_std = np.std(pool_data)\n",
    "first_data = np.array(live_births[live_births[\"birthord\"] == 1][\"prglength\"].dropna())\n",
    "first_mean = np.mean(first_data)\n",
    "first_std = np.std(first_data)\n",
    "other_data = np.array(live_births[live_births[\"birthord\"] != 1][\"prglength\"].dropna())\n",
    "other_mean = np.mean(other_data)\n",
    "other_std = np.std(other_data)\n",
    "np.random.seed(1)\n",
    "sample_chi2s = []\n",
    "for i in range(10000):\n",
    "    pool_sample = np.random.normal(pool_mean, pool_std, nbr_pooled)\n",
    "    first_sample = np.random.normal(first_mean, first_std, nbr_first_babies)\n",
    "    other_sample = np.random.normal(other_mean, other_std, nbr_other_babies)\n",
    "    # compute sample observed\n",
    "    sample_obs = np.zeros(6)\n",
    "    sample_obs[0] = np.where(first_sample <= 37)[0].shape[0]\n",
    "    sample_obs[1] = np.where((first_sample == 38) | \n",
    "                             (first_sample == 39) | \n",
    "                             (first_sample == 40))[0].shape[0]\n",
    "    sample_obs[2] = np.where(first_sample >= 41)[0].shape[0]\n",
    "    sample_obs[3] = np.where(other_sample <= 37)[0].shape[0]\n",
    "    sample_obs[4] = np.where((other_sample == 38) | \n",
    "                             (other_sample == 39) | \n",
    "                             (other_sample == 40))[0].shape[0]\n",
    "    sample_obs[5] = np.where(other_sample >= 41)[0].shape[0]\n",
    "    # compute sample expected\n",
    "    sample_pool_early = np.where(pool_sample <= 37)[0].shape[0]\n",
    "    sample_pool_ontime = np.where((pool_sample == 38) | \n",
    "                                  (pool_sample == 39) | \n",
    "                                  (pool_sample == 40))[0].shape[0]\n",
    "    sample_pool_late = np.where(pool_sample >= 41)[0].shape[0]\n",
    "    sample_exp = np.zeros(6)\n",
    "    sample_exp[0] = nbr_first_babies * sample_pool_early / nbr_pooled\n",
    "    sample_exp[1] = nbr_first_babies * sample_pool_ontime / nbr_pooled\n",
    "    sample_exp[2] = nbr_first_babies * sample_pool_late / nbr_pooled\n",
    "    sample_exp[3] = nbr_other_babies * sample_pool_early / nbr_pooled\n",
    "    sample_exp[4] = nbr_other_babies * sample_pool_ontime / nbr_pooled\n",
    "    sample_exp[5] = nbr_other_babies * sample_pool_late / nbr_pooled\n",
    "    # compute chi-squared, denom has a slight delta added for divide-by-zero\n",
    "    sample_dev = np.power(sample_obs - sample_exp, 2) / (sample_exp + 1e-9)\n",
    "    sample_chi2s.append(np.sum(sample_dev))\n",
    "\n",
    "pmf_chi2 = np.histogram(np.array(sample_chi2s), bins=1000, normed=True)\n",
    "cdf_chi2_ps = np.cumsum(pmf_chi2[0])\n",
    "cdf_chi2_ps = cdf_chi2_ps / cdf_chi2_ps[-1]\n",
    "cdf_chi2_xs = pmf_chi2[1][:-1]\n",
    "\n",
    "plt.plot(cdf_chi2_xs, cdf_chi2_ps)\n",
    "plt.xlabel(\"chi-squared value\")\n",
    "plt.ylabel(\"cumulative probability\")"
   ]
  },
  {
   "cell_type": "code",
   "execution_count": 14,
   "metadata": {
    "collapsed": false
   },
   "outputs": [
    {
     "name": "stdout",
     "output_type": "stream",
     "text": [
      "p-value: 0.000 (stat sig @ 99%)\n"
     ]
    }
   ],
   "source": [
    "p_value_idx = np.where(cdf_chi2_xs > chi2)[0]\n",
    "p_value = 0 if len(p_value_idx) == 0 else cdf_chi2_xs[p_value_idx]\n",
    "stat_sig = \"\"\n",
    "if p_value < 0.01:\n",
    "    stat_sig = \"stat sig @ 99%\"\n",
    "elif p_value < 0.05:\n",
    "    stat_sig = \"stat sig @ 95%\"\n",
    "else:\n",
    "    stat_sig = \"not stat sig\"\n",
    "print(\"p-value: %.3f (%s)\" % (p_value, stat_sig))"
   ]
  },
  {
   "cell_type": "markdown",
   "metadata": {},
   "source": [
    "__Exercise 7.6:__ Suppose you run a casino and you suspect that a customer has replaced a die provided by the casino with a “crooked die;” that is, one that has been tampered with to make one of the faces more likely to come up than the others. You apprehend the alleged cheater and confiscate the die, but now you have to prove that it is crooked.\n",
    "\n",
    "You roll the die 60 times and get the following results: (1, 8), (2, 9), (3, 19), (4, 6), (5, 8), (6, 10). \n",
    "\n",
    "What is the chi-squared statistic for these values? What is the probability of seeing a chi-squared value as large by chance?"
   ]
  },
  {
   "cell_type": "code",
   "execution_count": 15,
   "metadata": {
    "collapsed": false
   },
   "outputs": [
    {
     "name": "stdout",
     "output_type": "stream",
     "text": [
      "observed chi-squared value: 10.600\n",
      "p-value: 0.001 (stat sig @ 99%)\n"
     ]
    }
   ],
   "source": [
    "# compute the chi-squared value from the observed data\n",
    "observed = np.array([8, 9, 19, 6, 8, 10])\n",
    "expected = np.array([10, 10, 10, 10, 10, 10])  # each face equally likely\n",
    "observed_chi2 = np.sum(np.power(observed - expected, 2) / expected)\n",
    "print(\"observed chi-squared value: %.3f\" % (observed_chi2))\n",
    "\n",
    "# compute a distribution of chi-squared values by sampling\n",
    "def sample_by_cdf(cdf_xs, cdf_ps, n):\n",
    "    \"\"\" Create a sample based on a CDF \"\"\"\n",
    "    samples = []\n",
    "    for i in range(n):\n",
    "        prob = np.random.random()\n",
    "        for j in range(cdf_ps.shape[0]):\n",
    "            if cdf_ps[j] > prob:\n",
    "                break\n",
    "        samples.append(cdf_xs[j])\n",
    "    return samples\n",
    "\n",
    "pmf_obs = observed / 60\n",
    "cdf_obs_ps = np.cumsum(pmf_obs)\n",
    "cdf_obs_xs = np.array([1, 2, 3, 4, 5, 6])\n",
    "sample_chi2s = np.zeros(1000)\n",
    "for i in range(1000):\n",
    "    sample_obs = sample_by_cdf(cdf_obs_xs, cdf_obs_ps, 1000)\n",
    "    sample_exp = np.random.uniform(low=1, high=6, size=1000)\n",
    "    sample_chi2s[i] = np.sum(np.power(sample_obs - sample_exp, 2) / sample_exp)\n",
    "    \n",
    "# compute the CDF for the chi-squared values distribution\n",
    "pmf_chi2 = np.histogram(sample_chi2s, bins=1000, normed=True)\n",
    "cdf_chi2_ps = np.cumsum(pmf_chi2[0])\n",
    "cdf_chi2_ps = cdf_chi2_ps / cdf_chi2_ps[-1]\n",
    "cdf_chi2_xs = pmf_chi2[1][:-1]\n",
    "\n",
    "# compute p-value = prob(seeing a chi-squared value high as that observed)\n",
    "p_value_idx = np.where(cdf_chi2_xs >= observed_chi2)[0][0]\n",
    "p_value = cdf_chi2_ps[p_value_idx]\n",
    "statsig = \"\"\n",
    "if p_value < 0.01:\n",
    "    statsig = \"stat sig @ 99%\"\n",
    "elif p_value < 0.05:\n",
    "    statsig = \"stat sig @ 95%\"\n",
    "else:\n",
    "    statsig = \"not stat sig\"\n",
    "print(\"p-value: %.3f (%s)\" % (p_value, statsig))"
   ]
  },
  {
   "cell_type": "markdown",
   "metadata": {},
   "source": [
    "## Efficient Resampling\n",
    "\n",
    "In the __Testing Difference in Means__ problem above, we can also use the formulas for normal distribution to reduce some of the work.\n",
    "\n",
    "We have n=4413 first babies and m=4735 other babies. Our H0 is that they are from the same distribution. So if $\\mu$ and $\\sigma$ are the mean and standard deviation for the pooled distribution, then a sample mean from the first baby distribution is $\\mathcal{N}(\\mu, \\frac {\\sigma^2}{n})$ and one from the other baby distribution is $\\mathcal{N}(\\mu, \\frac {\\sigma^2}{m})$. Using the formula for the difference of means:\n",
    "\n",
    "$$X - Y \\sim \\mathcal{N}(\\mu_{X}-\\mu_{Y}, \\sigma_{X}^2+\\sigma_{Y}^2) \\sim \\mathcal{N}(0, (\\frac{1}{m}+\\frac{1}{n})\\sigma^{2})$$"
   ]
  },
  {
   "cell_type": "code",
   "execution_count": 16,
   "metadata": {
    "collapsed": false
   },
   "outputs": [
    {
     "name": "stdout",
     "output_type": "stream",
     "text": [
      "p-value (evidence for H0): 0.168\n"
     ]
    }
   ],
   "source": [
    "diff_dist = scipy.stats.norm(loc=0, \n",
    "                             scale=math.sqrt(((1 / 4413) + (1 / 4735)) * \n",
    "                             math.pow(pool_std, 2)))\n",
    "left = diff_dist.cdf(-0.078)\n",
    "right = 1 - diff_dist.cdf(0.078)\n",
    "print(\"p-value (evidence for H0): %.3f\" % (left + right))"
   ]
  },
  {
   "cell_type": "markdown",
   "metadata": {},
   "source": [
    "## Power\n",
    "\n",
    "Negative hypothesis test does not necessarily imply effect is not real. Depends on __power__ of test, defined as the probability that the test will be positive if the null hypothesis is false. In general, the power of a test depends on the sample size, the magnitude of the effect, and the threshold $\\alpha$.\n",
    "\n",
    "Interesting tool for [Statistical Power Analysis](https://amarder.github.io/power-analysis/).\n",
    "\n",
    "__Exercise 7.7:__ What is the power of the test above using $\\alpha$ = 0.05 and assuming that the actual difference between the means is 0.078 weeks? You can estimate power by generating random samples from distributions with the given difference in the mean, testing the observed difference in the mean, and counting the number of positive tests.\n",
    "\n",
    "What is the power of the test with $\\alpha$ = 0.10?"
   ]
  },
  {
   "cell_type": "code",
   "execution_count": 17,
   "metadata": {
    "collapsed": false
   },
   "outputs": [
    {
     "name": "stdout",
     "output_type": "stream",
     "text": [
      "power with alpha 0.05 = 0.008\n",
      "power with alpha 0.1 = 0.998\n"
     ]
    }
   ],
   "source": [
    "# assume H0 = both distributions are identical. So from above\n",
    "nbr_pos_at_5 = 0\n",
    "nbr_pos_at_1 = 0\n",
    "for i in range(1000):\n",
    "    diff_std = math.sqrt(((1 / 4413) + (1 / 4735)) * math.pow(pool_std, 2))\n",
    "    # generate a diff sample\n",
    "    diff_sample = np.random.normal(0, diff_std, 1000)\n",
    "    # calculate PMF and CDF\n",
    "    pmf_diff = np.histogram(diff_sample, bins=100, normed=True)\n",
    "    cdf_diff_ps = np.cumsum(pmf_diff[0])\n",
    "    cdf_diff_ps = cdf_diff_ps / cdf_diff_ps[-1]\n",
    "    cdf_diff_xs = pmf_diff[1][:-1]\n",
    "    # calculate p-value\n",
    "    left = np.where(cdf_diff_xs <= -0.078)[0][0]\n",
    "    right = np.where(cdf_diff_xs >= 0.078)[0][0]\n",
    "    p_left = cdf_diff_ps[left]\n",
    "    p_right = 1.0 - cdf_diff_ps[right]\n",
    "    p_value = p_left + p_right\n",
    "    # null hypothesis is false if p-value < alpha\n",
    "    # test is positive if null hypothesis is false\n",
    "    if p_value < 0.05:\n",
    "        nbr_pos_at_5 += 1\n",
    "    if p_value < 0.1:\n",
    "        nbr_pos_at_1 += 1\n",
    "print(\"power with alpha 0.05 = %.3f\" % (nbr_pos_at_5 / 1000))\n",
    "print(\"power with alpha 0.1 = %.3f\" % (nbr_pos_at_1 / 1000))\n",
    "# so null hypothesis is false at both levels, and there is a difference"
   ]
  },
  {
   "cell_type": "code",
   "execution_count": null,
   "metadata": {
    "collapsed": true
   },
   "outputs": [],
   "source": []
  }
 ],
 "metadata": {
  "kernelspec": {
   "display_name": "Python 2",
   "language": "python",
   "name": "python2"
  },
  "language_info": {
   "codemirror_mode": {
    "name": "ipython",
    "version": 2
   },
   "file_extension": ".py",
   "mimetype": "text/x-python",
   "name": "python",
   "nbconvert_exporter": "python",
   "pygments_lexer": "ipython2",
   "version": "2.7.11"
  }
 },
 "nbformat": 4,
 "nbformat_minor": 0
}
